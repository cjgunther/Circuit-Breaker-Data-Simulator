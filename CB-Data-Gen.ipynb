{
 "cells": [
  {
   "cell_type": "code",
   "execution_count": 102,
   "metadata": {},
   "outputs": [],
   "source": [
    "import argparse\n",
    "import pandas as pd\n",
    "import numpy as np\n",
    "import time\n",
    "import calendar\n",
    "import os\n",
    "\n",
    "import matplotlib.pyplot as plt\n",
    "from datetime import timedelta\n",
    "import matplotlib.dates as mdates"
   ]
  },
  {
   "cell_type": "code",
   "execution_count": 269,
   "metadata": {},
   "outputs": [],
   "source": [
    "def generate_breaker_data(name, month, year):\n",
    "    # calculate number of days in the given month and year a create a date range\n",
    "    num_days = pd.Period(f'{year}-{month}').days_in_month\n",
    "    date_rng = pd.date_range(start=f'{year}-{month}-01 00:00:00', end=f'{year}-{month}-{num_days} 23:59:00', freq='5min')\n",
    "\n",
    "    # set random seed for randomization\n",
    "    np.random.seed(int(time.time()))\n",
    "\n",
    "    # generate random voltage values with mean of 380 kV and standard deviation of 2.0%\n",
    "    voltage_mean = 380\n",
    "    voltage_std_dev = voltage_mean * 0.020\n",
    "    voltage_values = np.random.normal(loc=voltage_mean, scale=voltage_std_dev, size=len(date_rng))\n",
    "\n",
    "    # generate random current values with mean of 2250 Amperes and standard deviation of 2.5%\n",
    "    current_mean = 2250\n",
    "    current_std_dev = current_mean * 0.025\n",
    "    current_values = np.random.normal(loc=current_mean, scale=current_std_dev, size=len(date_rng))\n",
    "\n",
    "    # generate random temperature values with mean of 70 degrees farenheit and standard deviation of 2.5%\n",
    "    temp_mean = 70.0\n",
    "    temp_std_dev = temp_mean * 0.025\n",
    "    temp_values = np.random.normal(loc=temp_mean, scale=temp_std_dev, size=len(date_rng))\n",
    "\n",
    "    # generate random moisture values with mean of 10 ppm and standard deviation of 20.0%\n",
    "    moisture_mean = 10\n",
    "    moisture_std_dev = moisture_mean * 0.200\n",
    "    moisture_values = np.random.normal(loc=moisture_mean, scale=moisture_std_dev, size=len(date_rng))\n",
    "\n",
    "    # generate random density values with mean of 6.75 lb/ft3 and standard deviation of 2.0%\n",
    "    density_mean = 6.75\n",
    "    density_std_dev = density_mean * 0.0001\n",
    "    density_values = np.random.normal(loc=density_mean, scale=density_std_dev, size=len(date_rng))\n",
    "\n",
    "    # generate random moisture values with mean of 10ppm and standard deviation of 2.0%\n",
    "    pressure_mean = 80\n",
    "    pressure_std_dev = pressure_mean * 0.020\n",
    "    pressure_values = np.random.normal(loc=pressure_mean, scale=pressure_std_dev, size=len(date_rng))\n",
    "\n",
    "    # apply correlations\n",
    "    voltage_values += voltage_values * np.random.normal(loc=0, scale=0.05, size=len(date_rng)) * -(current_values/current_mean - 1)\n",
    "    current_values += current_values * np.random.normal(loc=0, scale=0.05, size=len(date_rng)) * (voltage_values/voltage_mean - 1)\n",
    "    temp_values += temp_values * np.random.normal(loc=0, scale=0.05, size=len(date_rng)) * (current_values/current_mean - 1)\n",
    "    density_values += density_values * np.random.normal(loc=0, scale=0.05, size=len(date_rng)) * -(moisture_values/moisture_mean - 1)\n",
    "    pressure_values += pressure_values * np.random.normal(loc=0, scale=0.05, size=len(date_rng)) * -(moisture_values/moisture_mean - 1)\n",
    "\n",
    "    # round values\n",
    "    voltage_values = np.round(voltage_values, 1)\n",
    "    current_values = np.round(current_values, 0)\n",
    "    temp_values = np.round(temp_values, 1)\n",
    "    moisture_values = np.round(moisture_values, 0)\n",
    "    density_values = np.round(density_values, 2)\n",
    "    pressure_values = np.round(pressure_values, 1)\n",
    "\n",
    "    # create DataFrame with timestamp, name, current and voltage columns\n",
    "    data = pd.DataFrame({\n",
    "        'timestamp': date_rng,\n",
    "        'name': name,\n",
    "        'voltage (kV)': voltage_values,\n",
    "        'current (A)': current_values,\n",
    "        'temperature (F)': temp_values,\n",
    "        'moisture (ppm)': moisture_values,\n",
    "        'density (lb/ft3)': density_values,\n",
    "        'pressure (psi)': pressure_values\n",
    "    })\n",
    "\n",
    "    return data"
   ]
  },
  {
   "cell_type": "code",
   "execution_count": 270,
   "metadata": {},
   "outputs": [],
   "source": [
    "#Create Circuit Breaker Overload in Voltage and Current\n",
    "def get_voltage_failure(df, failure_date, failure_period=3, vstep=.15, cstep=1):\n",
    "    # get a slice of the data from 3 days prior to the failure date\n",
    "    df_fail = df[(df['timestamp'] <= failure_date) & (df['timestamp'] > failure_date - timedelta(days=failure_period))]\n",
    "\n",
    "    #add a gradual increase to voltage and current during this period\n",
    "    df_fail['voltage (kV)'] += np.arange(0, len(df_fail)*vstep, vstep)\n",
    "    df_fail['current (A)'] += np.arange(0, len(df_fail)*cstep, cstep)\n",
    "\n",
    "    #replace the slice into overall data\n",
    "    df[(df['timestamp'] <= failure_date) & (df['timestamp'] > failure_date - timedelta(days=failure_period))] = df_fail\n",
    "\n",
    "    #zero out voltage and current after\n",
    "    df.loc[(df['timestamp'] > failure_date), ['voltage (kV)', 'current (A)']] = 0\n",
    "    \n",
    "    return df"
   ]
  },
  {
   "cell_type": "code",
   "execution_count": 281,
   "metadata": {},
   "outputs": [],
   "source": [
    "#Create Circuit Breaker SF6 Leak\n",
    "def get_gas_failure(df, failure_date, failure_period=.5, pstep=.02, dstep=.01, mstep=.2):\n",
    "    # get a slice of the data from 3 days prior to the failure date\n",
    "    df_fail = df[df['timestamp'] > failure_date - timedelta(days=failure_period)]\n",
    "\n",
    "    #add a gradual decrease to density during this period\n",
    "    df_fail['density (lb/ft3)'] -= np.arange(0, len(df_fail)*dstep, dstep)\n",
    "    #df_fail['pressure (psi)'] -= np.arange(0, len(df_fail)*pstep, pstep)\n",
    "    #df_fail['moisture (ppm)'] += np.arange(0, len(df_fail)*mstep, mstep)\n",
    "\n",
    "    #replace the slice into overall data\n",
    "    df[df['timestamp'] > failure_date - timedelta(days=failure_period)] = df_fail\n",
    "\n",
    "    return df"
   ]
  },
  {
   "attachments": {},
   "cell_type": "markdown",
   "metadata": {},
   "source": [
    "# Start of code"
   ]
  },
  {
   "cell_type": "code",
   "execution_count": 282,
   "metadata": {},
   "outputs": [
    {
     "name": "stderr",
     "output_type": "stream",
     "text": [
      "/var/folders/dy/kn01jk4x7fj2y96s2_3hq0_80000gn/T/ipykernel_9862/2096647427.py:10: SettingWithCopyWarning: \n",
      "A value is trying to be set on a copy of a slice from a DataFrame.\n",
      "Try using .loc[row_indexer,col_indexer] = value instead\n",
      "\n",
      "See the caveats in the documentation: https://pandas.pydata.org/pandas-docs/stable/user_guide/indexing.html#returning-a-view-versus-a-copy\n",
      "  df_fail['voltage (kV)'] += np.arange(0, len(df_fail)*vstep, vstep)\n",
      "/var/folders/dy/kn01jk4x7fj2y96s2_3hq0_80000gn/T/ipykernel_9862/2096647427.py:11: SettingWithCopyWarning: \n",
      "A value is trying to be set on a copy of a slice from a DataFrame.\n",
      "Try using .loc[row_indexer,col_indexer] = value instead\n",
      "\n",
      "See the caveats in the documentation: https://pandas.pydata.org/pandas-docs/stable/user_guide/indexing.html#returning-a-view-versus-a-copy\n",
      "  df_fail['current (A)'] += np.arange(0, len(df_fail)*cstep, cstep)\n",
      "/var/folders/dy/kn01jk4x7fj2y96s2_3hq0_80000gn/T/ipykernel_9862/652892050.py:9: SettingWithCopyWarning: \n",
      "A value is trying to be set on a copy of a slice from a DataFrame.\n",
      "Try using .loc[row_indexer,col_indexer] = value instead\n",
      "\n",
      "See the caveats in the documentation: https://pandas.pydata.org/pandas-docs/stable/user_guide/indexing.html#returning-a-view-versus-a-copy\n",
      "  df_fail['density (lb/ft3)'] -= np.arange(0, len(df_fail)*dstep, dstep)\n"
     ]
    }
   ],
   "source": [
    "#Create normal data\n",
    "name = 'BKR-0030107'\n",
    "month = 4\n",
    "year = 2019\n",
    "df_raw = generate_breaker_data(name, month, year)\n",
    "\n",
    "failure_date = pd.to_datetime('2019-04-10T00:05:00')\n",
    "df_volt = get_voltage_failure(df_raw, failure_date)\n",
    "df_gas = get_gas_failure(df_raw, failure_date)"
   ]
  },
  {
   "cell_type": "code",
   "execution_count": 249,
   "metadata": {},
   "outputs": [
    {
     "data": {
      "text/html": [
       "<div>\n",
       "<style scoped>\n",
       "    .dataframe tbody tr th:only-of-type {\n",
       "        vertical-align: middle;\n",
       "    }\n",
       "\n",
       "    .dataframe tbody tr th {\n",
       "        vertical-align: top;\n",
       "    }\n",
       "\n",
       "    .dataframe thead th {\n",
       "        text-align: right;\n",
       "    }\n",
       "</style>\n",
       "<table border=\"1\" class=\"dataframe\">\n",
       "  <thead>\n",
       "    <tr style=\"text-align: right;\">\n",
       "      <th></th>\n",
       "      <th>timestamp</th>\n",
       "      <th>name</th>\n",
       "      <th>voltage (kV)</th>\n",
       "      <th>current (A)</th>\n",
       "      <th>temperature (F)</th>\n",
       "      <th>moisture (ppm)</th>\n",
       "      <th>density (lb/ft3)</th>\n",
       "      <th>pressure (psi)</th>\n",
       "    </tr>\n",
       "  </thead>\n",
       "  <tbody>\n",
       "    <tr>\n",
       "      <th>0</th>\n",
       "      <td>2019-04-01 00:00:00</td>\n",
       "      <td>BKR-0030107</td>\n",
       "      <td>372.5</td>\n",
       "      <td>2332.0</td>\n",
       "      <td>69.1</td>\n",
       "      <td>9.0</td>\n",
       "      <td>6.74</td>\n",
       "      <td>79.8</td>\n",
       "    </tr>\n",
       "    <tr>\n",
       "      <th>1</th>\n",
       "      <td>2019-04-01 00:05:00</td>\n",
       "      <td>BKR-0030107</td>\n",
       "      <td>381.9</td>\n",
       "      <td>2178.0</td>\n",
       "      <td>70.0</td>\n",
       "      <td>10.0</td>\n",
       "      <td>6.71</td>\n",
       "      <td>77.1</td>\n",
       "    </tr>\n",
       "    <tr>\n",
       "      <th>2</th>\n",
       "      <td>2019-04-01 00:10:00</td>\n",
       "      <td>BKR-0030107</td>\n",
       "      <td>385.6</td>\n",
       "      <td>2395.0</td>\n",
       "      <td>68.3</td>\n",
       "      <td>17.0</td>\n",
       "      <td>6.44</td>\n",
       "      <td>82.5</td>\n",
       "    </tr>\n",
       "    <tr>\n",
       "      <th>3</th>\n",
       "      <td>2019-04-01 00:15:00</td>\n",
       "      <td>BKR-0030107</td>\n",
       "      <td>387.5</td>\n",
       "      <td>2213.0</td>\n",
       "      <td>64.6</td>\n",
       "      <td>10.0</td>\n",
       "      <td>6.99</td>\n",
       "      <td>78.9</td>\n",
       "    </tr>\n",
       "    <tr>\n",
       "      <th>4</th>\n",
       "      <td>2019-04-01 00:20:00</td>\n",
       "      <td>BKR-0030107</td>\n",
       "      <td>381.5</td>\n",
       "      <td>2274.0</td>\n",
       "      <td>71.2</td>\n",
       "      <td>7.0</td>\n",
       "      <td>6.39</td>\n",
       "      <td>79.1</td>\n",
       "    </tr>\n",
       "  </tbody>\n",
       "</table>\n",
       "</div>"
      ],
      "text/plain": [
       "            timestamp         name  voltage (kV)  current (A)  \\\n",
       "0 2019-04-01 00:00:00  BKR-0030107         372.5       2332.0   \n",
       "1 2019-04-01 00:05:00  BKR-0030107         381.9       2178.0   \n",
       "2 2019-04-01 00:10:00  BKR-0030107         385.6       2395.0   \n",
       "3 2019-04-01 00:15:00  BKR-0030107         387.5       2213.0   \n",
       "4 2019-04-01 00:20:00  BKR-0030107         381.5       2274.0   \n",
       "\n",
       "   temperature (F)  moisture (ppm)  density (lb/ft3)  pressure (psi)  \n",
       "0             69.1             9.0              6.74            79.8  \n",
       "1             70.0            10.0              6.71            77.1  \n",
       "2             68.3            17.0              6.44            82.5  \n",
       "3             64.6            10.0              6.99            78.9  \n",
       "4             71.2             7.0              6.39            79.1  "
      ]
     },
     "execution_count": 249,
     "metadata": {},
     "output_type": "execute_result"
    }
   ],
   "source": [
    "df_raw.head()"
   ]
  },
  {
   "attachments": {},
   "cell_type": "markdown",
   "metadata": {},
   "source": [
    "# Create Circuit Breaker Overload"
   ]
  },
  {
   "cell_type": "code",
   "execution_count": 210,
   "metadata": {},
   "outputs": [
    {
     "name": "stderr",
     "output_type": "stream",
     "text": [
      "/var/folders/dy/kn01jk4x7fj2y96s2_3hq0_80000gn/T/ipykernel_9862/2900872053.py:13: SettingWithCopyWarning: \n",
      "A value is trying to be set on a copy of a slice from a DataFrame.\n",
      "Try using .loc[row_indexer,col_indexer] = value instead\n",
      "\n",
      "See the caveats in the documentation: https://pandas.pydata.org/pandas-docs/stable/user_guide/indexing.html#returning-a-view-versus-a-copy\n",
      "  df_fail['voltage (kV)'] += np.arange(0, len(df_fail)*vstep, vstep)\n",
      "/var/folders/dy/kn01jk4x7fj2y96s2_3hq0_80000gn/T/ipykernel_9862/2900872053.py:14: SettingWithCopyWarning: \n",
      "A value is trying to be set on a copy of a slice from a DataFrame.\n",
      "Try using .loc[row_indexer,col_indexer] = value instead\n",
      "\n",
      "See the caveats in the documentation: https://pandas.pydata.org/pandas-docs/stable/user_guide/indexing.html#returning-a-view-versus-a-copy\n",
      "  df_fail['current (A)'] += np.arange(0, len(df_fail)*cstep, cstep)\n"
     ]
    }
   ],
   "source": [
    "#date of failure\n",
    "failure_date = pd.to_datetime('2019-04-10T00:05:00')\n",
    "#days prior to failure date over which increase will occur\n",
    "failure_period = 3\n",
    "\n",
    "#voltage and current step size\n",
    "vstep = .15\n",
    "cstep = 1\n",
    "\n",
    "# get a slice of the data from 3 days prior to the failure date\n",
    "df_fail = df_raw[(df_raw['timestamp'] <= failure_date) & (df_raw['timestamp'] > failure_date - timedelta(days=failure_period))]\n",
    "#add a gradual increase to voltage and current during this period\n",
    "df_fail['voltage (kV)'] += np.arange(0, len(df_fail)*vstep, vstep)\n",
    "df_fail['current (A)'] += np.arange(0, len(df_fail)*cstep, cstep)\n",
    "#replace the slice into overall data\n",
    "df_raw[(df_raw['timestamp'] <= failure_date) & (df_raw['timestamp'] > failure_date - timedelta(days=failure_period))] = df_fail\n",
    "#zero out voltage and current after\n",
    "df_raw.loc[(df_raw['timestamp'] > failure_date), ['voltage (kV)', 'current (A)']] = 0\n"
   ]
  },
  {
   "cell_type": "code",
   "execution_count": 247,
   "metadata": {},
   "outputs": [
    {
     "data": {
      "image/png": "[encoded data removed]",
      "text/plain": [
       "<Figure size 640x480 with 1 Axes>"
      ]
     },
     "metadata": {},
     "output_type": "display_data"
    }
   ],
   "source": [
    "f, ax = plt.subplots(1)\n",
    "ax.plot(df_volt['timestamp'], df_volt['voltage (kV)'])\n",
    "ax.set_ylim(ymin=0)\n",
    "plt.title('Voltage')\n",
    "plt.xticks(rotation=45)\n",
    "plt.show(f)"
   ]
  },
  {
   "cell_type": "code",
   "execution_count": 248,
   "metadata": {},
   "outputs": [
    {
     "data": {
      "image/png": "[encoded data removed]",
      "text/plain": [
       "<Figure size 640x480 with 1 Axes>"
      ]
     },
     "metadata": {},
     "output_type": "display_data"
    }
   ],
   "source": [
    "f, ax = plt.subplots(1)\n",
    "ax.plot(df_volt['timestamp'], df_volt['current (A)'])\n",
    "ax.set_ylim(ymin=0)\n",
    "plt.title('Current')\n",
    "plt.xticks(rotation=45)\n",
    "plt.show(f)"
   ]
  },
  {
   "cell_type": "code",
   "execution_count": 283,
   "metadata": {},
   "outputs": [
    {
     "data": {
      "image/png": "[encoded data removed]",
      "text/plain": [
       "<Figure size 640x480 with 1 Axes>"
      ]
     },
     "metadata": {},
     "output_type": "display_data"
    }
   ],
   "source": [
    "f, ax = plt.subplots(1)\n",
    "ax.plot(df_gas['timestamp'], df_gas['density (lb/ft3)'])\n",
    "ax.set_ylim(ymin=0)\n",
    "plt.title('Pressure')\n",
    "plt.xticks(rotation=45)\n",
    "plt.show(f)"
   ]
  },
  {
   "cell_type": "code",
   "execution_count": null,
   "metadata": {},
   "outputs": [],
   "source": []
  },
  {
   "cell_type": "code",
   "execution_count": null,
   "metadata": {},
   "outputs": [],
   "source": []
  },
  {
   "cell_type": "code",
   "execution_count": null,
   "metadata": {},
   "outputs": [],
   "source": []
  },
  {
   "cell_type": "code",
   "execution_count": null,
   "metadata": {},
   "outputs": [],
   "source": []
  },
  {
   "cell_type": "code",
   "execution_count": null,
   "metadata": {},
   "outputs": [],
   "source": []
  },
  {
   "cell_type": "code",
   "execution_count": 8,
   "metadata": {},
   "outputs": [],
   "source": [
    "# save data to csv file\n",
    "filename = f'{name}-data-{calendar.month_name[month].lower()}-{year}.csv'\n",
    "#df.to_csv(filename, index=False)"
   ]
  }
 ],
 "metadata": {
  "kernelspec": {
   "display_name": "base",
   "language": "python",
   "name": "python3"
  },
  "language_info": {
   "codemirror_mode": {
    "name": "ipython",
    "version": 3
   },
   "file_extension": ".py",
   "mimetype": "text/x-python",
   "name": "python",
   "nbconvert_exporter": "python",
   "pygments_lexer": "ipython3",
   "version": "3.9.13"
  },
  "orig_nbformat": 4
 },
 "nbformat": 4,
 "nbformat_minor": 2
}
